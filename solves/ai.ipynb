{
 "cells": [
  {
   "cell_type": "code",
   "execution_count": 21,
   "metadata": {},
   "outputs": [
    {
     "name": "stdout",
     "output_type": "stream",
     "text": [
      "10\n"
     ]
    }
   ],
   "source": [
    "'''\n",
    "Problem: For given user inputs, lift status, how many floors will a lift visit after all \n",
    "the users have been visited the lift.\n",
    "floors; <- [0,1,2,3,4,5,6,7,8,9]\n",
    "lift to navigate to the floors; can stay in arbitrary places;\n",
    "* Can go up to the max top\n",
    "* Can go down to the max bottom\n",
    "user to call the lift; want to go up or down;\n",
    "* If already in the ground, can only call up\n",
    "* If already in the top, can only call down\n",
    "1. User calls the lift\n",
    "2. if lift_status > user_status then lift comes down to user_status\n",
    "3. if lift_status < user_status then lift comes up to user_status\n",
    "'''\n",
    "def lift_call(lift_status, user_status):\n",
    "    counter = 0\n",
    "    while user_status != lift_status:\n",
    "        if lift_status > user_status:\n",
    "            lift_status -= 1\n",
    "            counter += 1\n",
    "        elif lift_status < user_status:\n",
    "            lift_status += 1\n",
    "            counter += 1\n",
    "    return counter\n",
    "users = int(input(\"How many users?\"))\n",
    "lift_status = int(input(\"What floor is the lift at?\"))\n",
    "user_status = []\n",
    "for i in range(users):\n",
    "    user_status.append(int(input(\"User \" + str(i+1) + \", Which floor you are currently on?\")))\n",
    "lift_visit_after_each_use = []\n",
    "for i in user_status:\n",
    "    lift_visit_after_each_use.append(lift_call(lift_status, i))\n",
    "    lift_status = i\n",
    "print(sum(lift_visit_after_each_use))"
   ]
  }
 ],
 "metadata": {
  "kernelspec": {
   "display_name": "Python 3.9.13 ('base')",
   "language": "python",
   "name": "python3"
  },
  "language_info": {
   "codemirror_mode": {
    "name": "ipython",
    "version": 3
   },
   "file_extension": ".py",
   "mimetype": "text/x-python",
   "name": "python",
   "nbconvert_exporter": "python",
   "pygments_lexer": "ipython3",
   "version": "3.9.13"
  },
  "orig_nbformat": 4,
  "vscode": {
   "interpreter": {
    "hash": "0e3b4dbd25e3dd2cbd01a6b5b2c46c5ee6b2ea5cfea91f497bd9a805c9b9f94b"
   }
  }
 },
 "nbformat": 4,
 "nbformat_minor": 2
}
