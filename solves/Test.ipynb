{
 "cells": [
  {
   "cell_type": "code",
   "execution_count": 42,
   "metadata": {},
   "outputs": [
    {
     "name": "stdout",
     "output_type": "stream",
     "text": [
      "[1, 2, 3, 4, 5]\n"
     ]
    }
   ],
   "source": [
    "#Implementation of bubble sort\n",
    "x = [4,2,1,3,5]\n",
    "temp = None\n",
    "for i in range(0,len(x)-1):\n",
    "    for j in range(0,len(x)-i-1):\n",
    "        if x[j]>x[j+1]:\n",
    "            temp = x[j]\n",
    "            x[j] = x[j+1]\n",
    "            x[j+1] = temp\n",
    "print(x)\n",
    "#Note: len(x)-i-1 because everytime(i) the largest element gets sorted"
   ]
  },
  {
   "cell_type": "code",
   "execution_count": 43,
   "metadata": {},
   "outputs": [
    {
     "name": "stdout",
     "output_type": "stream",
     "text": [
      "[1, 2, 3, 4, 5]\n"
     ]
    }
   ],
   "source": [
    "#Implementation of selection sort\n",
    "x = [5,4,2,1,3]\n",
    "for i in range(0,len(x)-1):\n",
    "    for j in range(i,len(x)):\n",
    "        min = x[i]\n",
    "        if x[j] < min:\n",
    "            min = x[j]\n",
    "            x[j] = x[i]\n",
    "            x[i] = min\n",
    "\n",
    "print (x)"
   ]
  },
  {
   "cell_type": "code",
   "execution_count": 23,
   "metadata": {},
   "outputs": [
    {
     "name": "stdout",
     "output_type": "stream",
     "text": [
      "[2, 3, 5, 7]\n"
     ]
    }
   ],
   "source": [
    "#Implementation of Insertion sort\n",
    "x = [5,3,7,2]\n",
    "temp = None\n",
    "for i in range(0,len(x)-1):\n",
    "    for j in range(i,-1,-1):\n",
    "        if x[j+1] < x[j]:\n",
    "            temp = x[j+1]\n",
    "            x[j+1] = x[j]\n",
    "            x[j] = temp\n",
    "print(x)\n"
   ]
  },
  {
   "cell_type": "code",
   "execution_count": 24,
   "metadata": {},
   "outputs": [
    {
     "name": "stdout",
     "output_type": "stream",
     "text": [
      "['a', 'c', 'f', 'e']\n"
     ]
    }
   ],
   "source": [
    "#Activity selection problem implementation\n",
    "\n",
    "'''\n",
    "a -     -----\n",
    "b - --------\n",
    "c -         ----\n",
    "d -    ------\n",
    "e -                  ------ \n",
    "f -             -----\n",
    "    1 2 3 4 5 6 7 8 9 10 11\n",
    "\n",
    "1. Sort the activities by finishing time\n",
    "2. If current finishing time > next starting time -> skip activity\n",
    "3. If current finishing time <= next starting time -> consider activity\n",
    "'''\n",
    "\n",
    "act = {\n",
    "    'a':(3,5),\n",
    "    'b':(1,5),\n",
    "    'c':(5,7),\n",
    "    'd':(2,5),\n",
    "    'e':(10,11),\n",
    "    'f':(7,9)\n",
    "}\n",
    "\n",
    "sorted_by_finish_time = dict(sorted(act.items(), key=lambda x: x[1][1])) #Important\n",
    "activities = list(sorted_by_finish_time.keys())\n",
    "selected_activities = [activities[0]]\n",
    "for i in range(0,len(activities)-1):\n",
    "    if sorted_by_finish_time[activities[i]][1] <= sorted_by_finish_time[activities[i+1]][0]:\n",
    "        selected_activities.append(activities[i+1])\n",
    "print(selected_activities)\n",
    "\n",
    "'''\n",
    "sorted_dictionary = sorted(dictionary.items(), key=lambda x: x[1][1]) \n",
    "This expression sorts a dictionary according to the value of the \n",
    "second item in each key-value pair. \n",
    "The expression takes a dictionary as an input, and returns a sorted \n",
    "list of tuples. \n",
    "The expression uses the sorted() function to sort the dictionary. \n",
    "The dictionary.items() method is used to convert the dictionary into a list of tuples. \n",
    "The key parameter is set to a lambda expression that takes each item in the list (x) and \n",
    "returns the value of the second item in each key-value pair (x[1][1]). \n",
    "This ensures that the dictionary is sorted according to the value of the second item \n",
    "in each key-value pair.\n",
    "'''\n"
   ]
  },
  {
   "cell_type": "code",
   "execution_count": 70,
   "metadata": {},
   "outputs": [
    {
     "name": "stdout",
     "output_type": "stream",
     "text": [
      "10101\n"
     ]
    }
   ],
   "source": [
    "a = '10000'\n",
    "b = '101'\n",
    "z = ''\n",
    "lim = max(len(a),len(b))\n",
    "smaller = min(len(a),len(b))\n",
    "m = lim - smaller\n",
    "z = '0' * m\n",
    "if(smaller == len(a)):\n",
    "    a = z + a\n",
    "else:\n",
    "    b = z + b\n",
    "sum = []\n",
    "car = 0\n",
    "for i in range(lim-1,-1,-1):\n",
    "    if((car + int(a[i])+int(b[i]))==1):\n",
    "        sum.append(1)\n",
    "        car = 0\n",
    "    elif((car + int(a[i])+ int(b[i]))==2):\n",
    "        sum.append(0)\n",
    "        car = 1\n",
    "    elif((car + int(a[i])+int(b[i]))==3):\n",
    "        sum.append(1)\n",
    "        car = 1\n",
    "    else:\n",
    "        sum.append(0)\n",
    "        car = 0\n",
    "if(car==1):\n",
    "    sum.append(1)\n",
    "\n",
    "sum.reverse()\n",
    "\n",
    "sum = ''.join(str(e) for e in sum)\n",
    "print(sum)\n",
    "        \n",
    "         "
   ]
  },
  {
   "cell_type": "code",
   "execution_count": 7,
   "metadata": {},
   "outputs": [
    {
     "name": "stdout",
     "output_type": "stream",
     "text": [
      "(3, 6)\n"
     ]
    }
   ],
   "source": [
    "def gcd(a,b):\n",
    "    if a == 0:\n",
    "        return b\n",
    "    return gcd(b%a,a)\n",
    "def lcm(a,b):\n",
    "    prod = a*b\n",
    "    hcf = gcd(a,b)\n",
    "    return prod // hcf\n",
    "\n",
    "n = int(input())\n",
    "apv = {}\n",
    "\n",
    "\n",
    "for a in range(1,n):\n",
    "    b = n-a\n",
    "    apv[(a,b)]= lcm(a,b)\n",
    "\n",
    "min_key = min(apv, key=lambda k: apv[k])\n",
    "print(min_key)\n"
   ]
  },
  {
   "cell_type": "code",
   "execution_count": 2,
   "metadata": {},
   "outputs": [
    {
     "name": "stdout",
     "output_type": "stream",
     "text": [
      "['1', '2', '3', '4', '5', '6', '7', '8', '9', '10', '11', '12']\n"
     ]
    }
   ],
   "source": [
    "l = [1,2,3,4,5,6,7,8,9,10,11,12]\n",
    "x = map(str,l)\n",
    "print(list(x))"
   ]
  },
  {
   "cell_type": "code",
   "execution_count": 6,
   "metadata": {},
   "outputs": [
    {
     "name": "stdout",
     "output_type": "stream",
     "text": [
      "found\n",
      "found\n",
      "found\n",
      "found\n",
      "found\n",
      "found\n"
     ]
    }
   ],
   "source": []
  }
 ],
 "metadata": {
  "kernelspec": {
   "display_name": "base",
   "language": "python",
   "name": "python3"
  },
  "language_info": {
   "codemirror_mode": {
    "name": "ipython",
    "version": 3
   },
   "file_extension": ".py",
   "mimetype": "text/x-python",
   "name": "python",
   "nbconvert_exporter": "python",
   "pygments_lexer": "ipython3",
   "version": "3.9.13"
  },
  "orig_nbformat": 4,
  "vscode": {
   "interpreter": {
    "hash": "40d3a090f54c6569ab1632332b64b2c03c39dcf918b08424e98f38b5ae0af88f"
   }
  }
 },
 "nbformat": 4,
 "nbformat_minor": 2
}
